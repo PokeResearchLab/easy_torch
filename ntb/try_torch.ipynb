{
 "cells": [
  {
   "cell_type": "markdown",
   "metadata": {},
   "source": [
    "# Test"
   ]
  },
  {
   "cell_type": "code",
   "execution_count": 1,
   "metadata": {},
   "outputs": [],
   "source": [
    "import sys"
   ]
  },
  {
   "cell_type": "code",
   "execution_count": 2,
   "metadata": {},
   "outputs": [
    {
     "name": "stdout",
     "output_type": "stream",
     "text": [
      "['../', '/Users/federicosiciliano/Desktop/Py_utils/torch_utils/ntb', '/Library/Developer/CommandLineTools/Library/Frameworks/Python3.framework/Versions/3.8/lib/python38.zip', '/Library/Developer/CommandLineTools/Library/Frameworks/Python3.framework/Versions/3.8/lib/python3.8', '/Library/Developer/CommandLineTools/Library/Frameworks/Python3.framework/Versions/3.8/lib/python3.8/lib-dynload', '', '/Users/federicosiciliano/Library/Python/3.8/lib/python/site-packages', '/Library/Developer/CommandLineTools/Library/Frameworks/Python3.framework/Versions/3.8/lib/python3.8/site-packages']\n"
     ]
    }
   ],
   "source": [
    "project_folder = \"../\"\n",
    "sys.path.insert(0, project_folder)\n",
    "print(sys.path) # view the path and verify"
   ]
  },
  {
   "cell_type": "code",
   "execution_count": 3,
   "metadata": {},
   "outputs": [],
   "source": [
    "import exp_utils, data_utils, torch_utils"
   ]
  },
  {
   "cell_type": "markdown",
   "metadata": {},
   "source": [
    "## Configuration"
   ]
  },
  {
   "cell_type": "code",
   "execution_count": 4,
   "metadata": {},
   "outputs": [],
   "source": [
    "cfg = exp_utils.cfg.load_configuration(\"config_nn\")"
   ]
  },
  {
   "cell_type": "code",
   "execution_count": 5,
   "metadata": {},
   "outputs": [
    {
     "data": {
      "text/plain": [
       "{'__exp__': {'name': 'prova',\n",
       "  'project_folder': '../',\n",
       "  'key_len': 16,\n",
       "  'key_prefix': '',\n",
       "  '__imports__': ['torchvision'],\n",
       "  '__nosave__': {'model.loader_params.num_workers': None,\n",
       "   'model.trainer_params.accelerator': None,\n",
       "   'model.trainer_params.enable_checkpointing': None}},\n",
       " 'data': {'name': 'MNIST',\n",
       "  'source': 'torchvision',\n",
       "  'merge_before_split': False,\n",
       "  'split_keys': {'train_x': ['train_x', 'val_x'],\n",
       "   'train_y': ['train_y', 'val_y']},\n",
       "  'test_sizes': [0.2],\n",
       "  'split_random_state': 21094,\n",
       "  'one_hot_encode': True,\n",
       "  'scaling': 'MinMax'},\n",
       " 'model': {'name': 'resnet18',\n",
       "  'torchvision_params': {'weights': [None, <enum 'ResNet18_Weights'>]},\n",
       "  'optimizer': {'name': 'Adam', 'params': {'lr': 0.1, 'weight_decay': 0.0005}},\n",
       "  'loss': 'CrossEntropyLoss',\n",
       "  'loader_params': {'batch_size': 256, 'num_workers': 4},\n",
       "  'trainer_params': {'max_epochs': 2,\n",
       "   'callbacks': [{'EarlyStopping': {'monitor': 'val_loss',\n",
       "      'mode': 'min',\n",
       "      'patience': 1}},\n",
       "    {'ModelCheckpoint': {'save_top_k': 1,\n",
       "      'save_last': True,\n",
       "      'monitor': 'val_loss',\n",
       "      'mode': 'min',\n",
       "      'dirpath': '..//out/models/',\n",
       "      'filename': 'best'},\n",
       "     '__nosave__': ['ModelCheckpoint.dirpath', 'ModelCheckpoint.filename']}],\n",
       "   'accelerator': 'cpu',\n",
       "   'enable_checkpointing': True}}}"
      ]
     },
     "execution_count": 5,
     "metadata": {},
     "output_type": "execute_result"
    }
   ],
   "source": [
    "cfg"
   ]
  },
  {
   "cell_type": "code",
   "execution_count": 6,
   "metadata": {},
   "outputs": [
    {
     "name": "stdout",
     "output_type": "stream",
     "text": [
      "{'name': 'resnet18', 'torchvision_params': {'weights': None}, 'optimizer': {'name': 'Adam', 'params': {'lr': 0.1, 'weight_decay': 0.0005}}, 'loss': 'CrossEntropyLoss', 'loader_params': {'batch_size': 256, 'num_workers': 4}, 'trainer_params': {'max_epochs': 2, 'callbacks': [{'EarlyStopping': {'monitor': 'val_loss', 'mode': 'min', 'patience': 1}}, {'ModelCheckpoint': {'save_top_k': 1, 'save_last': True, 'monitor': 'val_loss', 'mode': 'min', 'dirpath': '..//out/models/', 'filename': 'best'}, '__nosave__': ['ModelCheckpoint.dirpath', 'ModelCheckpoint.filename']}], 'accelerator': 'cpu', 'enable_checkpointing': True}}\n",
      "{'name': 'resnet18', 'torchvision_params': {'weights': <enum 'ResNet18_Weights'>}, 'optimizer': {'name': 'Adam', 'params': {'lr': 0.1, 'weight_decay': 0.0005}}, 'loss': 'CrossEntropyLoss', 'loader_params': {'batch_size': 256, 'num_workers': 4}, 'trainer_params': {'max_epochs': 2, 'callbacks': [{'EarlyStopping': {'monitor': 'val_loss', 'mode': 'min', 'patience': 1}}, {'ModelCheckpoint': {'save_top_k': 1, 'save_last': True, 'monitor': 'val_loss', 'mode': 'min', 'dirpath': '..//out/models/', 'filename': 'best'}, '__nosave__': ['ModelCheckpoint.dirpath', 'ModelCheckpoint.filename']}], 'accelerator': 'cpu', 'enable_checkpointing': True}}\n"
     ]
    }
   ],
   "source": [
    "for app in cfg.sweep(\"model.torchvision_params.weights\"):\n",
    "    #print(app)\n",
    "    print(cfg.model)\n",
    "#print(cfg)"
   ]
  },
  {
   "cell_type": "code",
   "execution_count": 7,
   "metadata": {},
   "outputs": [],
   "source": [
    "data = data_utils.data.load_data(**cfg[\"data\"])"
   ]
  },
  {
   "cell_type": "code",
   "execution_count": 8,
   "metadata": {},
   "outputs": [],
   "source": [
    "cfg[\"model\"][\"in_channels\"] = data[\"train_x\"].shape[1]\n",
    "cfg[\"model\"][\"out_features\"] = data[\"train_y\"].shape[1]"
   ]
  },
  {
   "cell_type": "code",
   "execution_count": 9,
   "metadata": {},
   "outputs": [],
   "source": [
    "loaders = torch_utils.preparation.prepare_data_loaders(data, cfg[\"model\"][\"loader_params\"])"
   ]
  },
  {
   "cell_type": "code",
   "execution_count": 10,
   "metadata": {},
   "outputs": [
    {
     "name": "stderr",
     "output_type": "stream",
     "text": [
      "/Users/federicosiciliano/Library/Python/3.8/lib/python/site-packages/torchvision/models/_utils.py:223: UserWarning: Arguments other than a weight enum or `None` for 'weights' are deprecated since 0.13 and will be removed in 0.15. The current behavior is equivalent to passing `weights=ResNet18_Weights.IMAGENET1K_V1`. You can also use `weights=ResNet18_Weights.DEFAULT` to get the most up-to-date weights.\n",
      "  warnings.warn(msg)\n"
     ]
    }
   ],
   "source": [
    "main_module = torch_utils.model.get_torchvision_model(**cfg[\"model\"])"
   ]
  },
  {
   "cell_type": "code",
   "execution_count": 11,
   "metadata": {},
   "outputs": [
    {
     "name": "stderr",
     "output_type": "stream",
     "text": [
      "Global seed set to 42\n"
     ]
    },
    {
     "ename": "AttributeError",
     "evalue": "module 'pytorch_lightning.callbacks' has no attribute '__nosave__'",
     "output_type": "error",
     "traceback": [
      "\u001b[0;31m---------------------------------------------------------------------------\u001b[0m",
      "\u001b[0;31mAttributeError\u001b[0m                            Traceback (most recent call last)",
      "\u001b[1;32m/Users/federicosiciliano/Desktop/Py_utils/torch_utils/ntb/try_torch.ipynb Cella 13\u001b[0m in \u001b[0;36m<cell line: 1>\u001b[0;34m()\u001b[0m\n\u001b[0;32m----> <a href='vscode-notebook-cell:/Users/federicosiciliano/Desktop/Py_utils/torch_utils/ntb/try_torch.ipynb#X15sZmlsZQ%3D%3D?line=0'>1</a>\u001b[0m callbacks \u001b[39m=\u001b[39m torch_utils\u001b[39m.\u001b[39;49mpreparation\u001b[39m.\u001b[39;49mprepare_callbacks(cfg[\u001b[39m\"\u001b[39;49m\u001b[39mmodel\u001b[39;49m\u001b[39m\"\u001b[39;49m][\u001b[39m\"\u001b[39;49m\u001b[39mtrainer_params\u001b[39;49m\u001b[39m\"\u001b[39;49m])\n\u001b[1;32m      <a href='vscode-notebook-cell:/Users/federicosiciliano/Desktop/Py_utils/torch_utils/ntb/try_torch.ipynb#X15sZmlsZQ%3D%3D?line=1'>2</a>\u001b[0m already_defined \u001b[39m=\u001b[39m [\u001b[39m\"\u001b[39m\u001b[39mcallbacks\u001b[39m\u001b[39m\"\u001b[39m]\n\u001b[1;32m      <a href='vscode-notebook-cell:/Users/federicosiciliano/Desktop/Py_utils/torch_utils/ntb/try_torch.ipynb#X15sZmlsZQ%3D%3D?line=2'>3</a>\u001b[0m trainer \u001b[39m=\u001b[39m torch_utils\u001b[39m.\u001b[39mpreparation\u001b[39m.\u001b[39mprepare_trainer(\u001b[39m*\u001b[39m\u001b[39m*\u001b[39m{k:cfg[\u001b[39m\"\u001b[39m\u001b[39mmodel\u001b[39m\u001b[39m\"\u001b[39m][\u001b[39m\"\u001b[39m\u001b[39mtrainer_params\u001b[39m\u001b[39m\"\u001b[39m][k] \u001b[39mfor\u001b[39;00m k \u001b[39min\u001b[39;00m cfg[\u001b[39m\"\u001b[39m\u001b[39mmodel\u001b[39m\u001b[39m\"\u001b[39m][\u001b[39m\"\u001b[39m\u001b[39mtrainer_params\u001b[39m\u001b[39m\"\u001b[39m] \u001b[39mif\u001b[39;00m k \u001b[39mnot\u001b[39;00m \u001b[39min\u001b[39;00m already_defined}, callbacks\u001b[39m=\u001b[39mcallbacks)\n",
      "File \u001b[0;32m~/Desktop/Py_utils/torch_utils/torch_utils/preparation.py:47\u001b[0m, in \u001b[0;36mprepare_callbacks\u001b[0;34m(trainer_params)\u001b[0m\n\u001b[1;32m     45\u001b[0m \u001b[39mif\u001b[39;00m \u001b[39misinstance\u001b[39m(callback_dict, \u001b[39mdict\u001b[39m):\n\u001b[1;32m     46\u001b[0m     \u001b[39mfor\u001b[39;00m callback_name,callback_params \u001b[39min\u001b[39;00m callback_dict\u001b[39m.\u001b[39mitems():\n\u001b[0;32m---> 47\u001b[0m         callbacks\u001b[39m.\u001b[39mappend(\u001b[39mgetattr\u001b[39;49m(pl\u001b[39m.\u001b[39;49mcallbacks, callback_name)(\u001b[39m*\u001b[39m\u001b[39m*\u001b[39mcallback_params))\n\u001b[1;32m     48\u001b[0m         \u001b[39m# if callback_name==\"ModelCheckpoint\": #doesn't seem to work; should make ModelCheckpoint overwrite old \"best\" file\u001b[39;00m\n\u001b[1;32m     49\u001b[0m         \u001b[39m#     if os.path.isdir(callbacks[-1].dirpath):\u001b[39;00m\n\u001b[1;32m     50\u001b[0m         \u001b[39m#         callbacks[-1].STARTING_VERSION = -1\u001b[39;00m\n\u001b[1;32m     51\u001b[0m \u001b[39melse\u001b[39;00m:\n\u001b[1;32m     52\u001b[0m     callbacks\u001b[39m.\u001b[39mappend(callback_dict)\n",
      "\u001b[0;31mAttributeError\u001b[0m: module 'pytorch_lightning.callbacks' has no attribute '__nosave__'"
     ]
    }
   ],
   "source": [
    "callbacks = torch_utils.preparation.prepare_callbacks(cfg[\"model\"][\"trainer_params\"])\n",
    "already_defined = [\"callbacks\"]\n",
    "trainer = torch_utils.preparation.prepare_trainer(**{k:cfg[\"model\"][\"trainer_params\"][k] for k in cfg[\"model\"][\"trainer_params\"] if k not in already_defined}, callbacks=callbacks)"
   ]
  },
  {
   "cell_type": "code",
   "execution_count": null,
   "metadata": {},
   "outputs": [],
   "source": [
    "loss = torch_utils.preparation.prepare_loss(cfg[\"model\"][\"loss\"])"
   ]
  },
  {
   "cell_type": "code",
   "execution_count": null,
   "metadata": {},
   "outputs": [],
   "source": [
    "optimizer = torch_utils.preparation.prepare_optimizer(**cfg[\"model\"][\"optimizer\"])"
   ]
  },
  {
   "cell_type": "code",
   "execution_count": null,
   "metadata": {},
   "outputs": [],
   "source": [
    "model = torch_utils.process.create_model(main_module, loss, optimizer)"
   ]
  },
  {
   "cell_type": "code",
   "execution_count": null,
   "metadata": {},
   "outputs": [
    {
     "ename": "NameError",
     "evalue": "name 'trainer' is not defined",
     "output_type": "error",
     "traceback": [
      "\u001b[0;31m---------------------------------------------------------------------------\u001b[0m",
      "\u001b[0;31mNameError\u001b[0m                                 Traceback (most recent call last)",
      "\u001b[1;32m/Users/federicosiciliano/Desktop/Py_utils/torch_utils/ntb/try_torch.ipynb Cella 17\u001b[0m in \u001b[0;36m<cell line: 1>\u001b[0;34m()\u001b[0m\n\u001b[0;32m----> <a href='vscode-notebook-cell:/Users/federicosiciliano/Desktop/Py_utils/torch_utils/ntb/try_torch.ipynb#X22sZmlsZQ%3D%3D?line=0'>1</a>\u001b[0m torch_utils\u001b[39m.\u001b[39mprocess\u001b[39m.\u001b[39mtrain_model(trainer, model, loaders)\n",
      "\u001b[0;31mNameError\u001b[0m: name 'trainer' is not defined"
     ]
    }
   ],
   "source": [
    "torch_utils.process.train_model(trainer, model, loaders)"
   ]
  },
  {
   "cell_type": "code",
   "execution_count": null,
   "metadata": {},
   "outputs": [
    {
     "ename": "NameError",
     "evalue": "name 'trainer' is not defined",
     "output_type": "error",
     "traceback": [
      "\u001b[0;31m---------------------------------------------------------------------------\u001b[0m",
      "\u001b[0;31mNameError\u001b[0m                                 Traceback (most recent call last)",
      "\u001b[1;32m/Users/federicosiciliano/Desktop/Py_utils/torch_utils/ntb/try_torch.ipynb Cella 18\u001b[0m in \u001b[0;36m<cell line: 1>\u001b[0;34m()\u001b[0m\n\u001b[0;32m----> <a href='vscode-notebook-cell:/Users/federicosiciliano/Desktop/Py_utils/torch_utils/ntb/try_torch.ipynb#X23sZmlsZQ%3D%3D?line=0'>1</a>\u001b[0m torch_utils\u001b[39m.\u001b[39mprocess\u001b[39m.\u001b[39mtest_model(trainer, model, loaders)\n",
      "\u001b[0;31mNameError\u001b[0m: name 'trainer' is not defined"
     ]
    }
   ],
   "source": [
    "torch_utils.process.test_model(trainer, model, loaders)"
   ]
  },
  {
   "cell_type": "code",
   "execution_count": null,
   "metadata": {},
   "outputs": [],
   "source": []
  },
  {
   "cell_type": "code",
   "execution_count": null,
   "metadata": {},
   "outputs": [],
   "source": []
  }
 ],
 "metadata": {
  "kernelspec": {
   "display_name": "Python 3",
   "language": "python",
   "name": "python3"
  },
  "language_info": {
   "codemirror_mode": {
    "name": "ipython",
    "version": 3
   },
   "file_extension": ".py",
   "mimetype": "text/x-python",
   "name": "python",
   "nbconvert_exporter": "python",
   "pygments_lexer": "ipython3",
   "version": "3.8.9"
  },
  "orig_nbformat": 4,
  "vscode": {
   "interpreter": {
    "hash": "31f2aee4e71d21fbe5cf8b01ff0e069b9275f58929596ceb00d14d90e3e16cd6"
   }
  }
 },
 "nbformat": 4,
 "nbformat_minor": 2
}
